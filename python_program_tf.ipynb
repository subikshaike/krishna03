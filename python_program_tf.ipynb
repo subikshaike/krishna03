{
  "nbformat": 4,
  "nbformat_minor": 0,
  "metadata": {
    "colab": {
      "provenance": [],
      "authorship_tag": "ABX9TyNHUhZba8QB8WvJBHyww2Yk",
      "include_colab_link": true
    },
    "kernelspec": {
      "name": "python3",
      "display_name": "Python 3"
    },
    "language_info": {
      "name": "python"
    }
  },
  "cells": [
    {
      "cell_type": "markdown",
      "metadata": {
        "id": "view-in-github",
        "colab_type": "text"
      },
      "source": [
        "<a href=\"https://colab.research.google.com/github/subikshaike/krishna03/blob/main/python_program_tf.ipynb\" target=\"_parent\"><img src=\"https://colab.research.google.com/assets/colab-badge.svg\" alt=\"Open In Colab\"/></a>"
      ]
    },
    {
      "cell_type": "code",
      "execution_count": 9,
      "metadata": {
        "colab": {
          "base_uri": "https://localhost:8080/"
        },
        "id": "-SE5wTP0gVox",
        "outputId": "5216fdd0-de87-4162-f453-cb5854b3624d"
      },
      "outputs": [
        {
          "output_type": "stream",
          "name": "stdout",
          "text": [
            "[2 4 7] [ 1  4 12]\n"
          ]
        }
      ],
      "source": [
        "import numpy as np\n",
        "x = np.array([1,2,3])\n",
        "y = np.array([1,2,4])\n",
        "x+y\n",
        "a = np.add(x,y)\n",
        "m = np. multiply(x,y)\n",
        "print(a,m)"
      ]
    },
    {
      "cell_type": "markdown",
      "source": [
        "Tensor flow 2.o"
      ],
      "metadata": {
        "id": "DvQlICIyhiqr"
      }
    },
    {
      "cell_type": "code",
      "source": [
        "import tensorflow as tf\n",
        "print(tf.__version__)"
      ],
      "metadata": {
        "colab": {
          "base_uri": "https://localhost:8080/"
        },
        "id": "jQ-jBH0Ehq9w",
        "outputId": "1509c350-17f3-4759-d063-790f433a1a26"
      },
      "execution_count": 10,
      "outputs": [
        {
          "output_type": "stream",
          "name": "stdout",
          "text": [
            "2.9.2\n"
          ]
        }
      ]
    },
    {
      "cell_type": "code",
      "source": [
        "x = tf.constant([1,2,3])\n",
        "y = tf.constant([1,2,4])\n",
        "a = tf.add(x,y)\n",
        "print(a)"
      ],
      "metadata": {
        "colab": {
          "base_uri": "https://localhost:8080/"
        },
        "id": "q-oryKRNh-Xm",
        "outputId": "5f37df93-09fb-4f89-cb2d-5f9a848919ab"
      },
      "execution_count": 11,
      "outputs": [
        {
          "output_type": "stream",
          "name": "stdout",
          "text": [
            "tf.Tensor([2 4 7], shape=(3,), dtype=int32)\n"
          ]
        }
      ]
    }
  ]
}